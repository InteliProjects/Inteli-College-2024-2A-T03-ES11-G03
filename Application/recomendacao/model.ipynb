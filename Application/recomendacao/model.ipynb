{
 "cells": [
  {
   "cell_type": "code",
   "execution_count": 1,
   "metadata": {},
   "outputs": [],
   "source": [
    "import clickhouse_connect\n",
    "import pandas as pd\n",
    "import joblib\n",
    "from mlxtend.frequent_patterns import apriori, association_rules\n",
    "import pandas as pd\n",
    "import numpy as np\n",
    "import pickle\n",
    "import gzip\n",
    "import os\n",
    "import boto3\n",
    "from dotenv import load_dotenv\n",
    "load_dotenv()"
   ]
  },
  {
   "cell_type": "code",
   "execution_count": 19,
   "metadata": {},
   "outputs": [],
   "source": [
    "# AWS CREDENTIALS\n",
    "bucket_name = os.getenv('AWS_BUCKET_NAME')\n",
    "s3_transactions_path = os.getenv('TRANSACTIONS_DF_PATH')\n",
    "s3_model_path = os.getenv('MODEL_PKL')\n",
    "aws_access_key_id=os.getenv('AWS_ACCESS_KEY_ID')\n",
    "aws_secret_access_key=os.getenv(\"AWS_SECRET_ACCESS_KEY\")\n",
    "aws_session_token=os.getenv(\"AWS_SESSION_TOKEN\")\n",
    "\n",
    "s3 = boto3.client(\n",
    "    's3',\n",
    "    aws_access_key_id=aws_access_key_id,\n",
    "    aws_secret_access_key=aws_secret_access_key,\n",
    "    aws_session_token=aws_session_token\n",
    ")"
   ]
  },
  {
   "cell_type": "code",
   "execution_count": 2,
   "metadata": {},
   "outputs": [],
   "source": [
    "client = clickhouse_connect.get_client(host=os.getenv('CLICKHOUSE_HOST'), \n",
    "                                        user=os.getenv('CLICKHOUSE_USERNAME'), \n",
    "                                        password=os.getenv('CLICKHOUSE_PASSWORD'),\n",
    "                                        port=int(os.getenv('CLICKHOUSE_PORT')),\n",
    "                                        database=os.getenv('CLICKHOUSE_DATABASE'),\n",
    "                                        interface='http'\n",
    "                                        )"
   ]
  },
  {
   "cell_type": "code",
   "execution_count": 3,
   "metadata": {},
   "outputs": [],
   "source": [
    "def load_data_from_clickhouse(client):\n",
    "    query = f\"\"\"\n",
    "    SELECT \n",
    "      *\n",
    "    FROM \n",
    "        default.vw_recommendation\n",
    "    \"\"\"\n",
    "\n",
    "    result = client.query(query)\n",
    "\n",
    "    transactions = pd.DataFrame(result.result_rows, columns=result.column_names)\n",
    "    \n",
    "    return transactions"
   ]
  },
  {
   "cell_type": "code",
   "execution_count": 4,
   "metadata": {},
   "outputs": [],
   "source": [
    "transactions = load_data_from_clickhouse(client)"
   ]
  },
  {
   "cell_type": "code",
   "execution_count": 5,
   "metadata": {},
   "outputs": [],
   "source": [
    "transactions.loc[transactions['categoria'] == 'LÃ¡bios', 'categoria'] = 'Lábios'\n",
    "transactions.loc[transactions['sub_categoria'] == 'MÃ¡scara', 'sub_categoria'] = 'Máscara'\n",
    "transactions.loc[transactions['sub_categoria'] == 'Sabonete lÃ­quido', 'sub_categoria'] = 'Sabonete líquido'"
   ]
  },
  {
   "cell_type": "code",
   "execution_count": 7,
   "metadata": {},
   "outputs": [
    {
     "name": "stderr",
     "output_type": "stream",
     "text": [
      "c:\\Users\\Inteli\\AppData\\Local\\Programs\\Python\\Python310\\lib\\site-packages\\mlxtend\\frequent_patterns\\fpcommon.py:109: DeprecationWarning: DataFrames with non-bool types result in worse computationalperformance and their support might be discontinued in the future.Please use a DataFrame with bool type\n",
      "  warnings.warn(\n"
     ]
    }
   ],
   "source": [
    "basket = pd.pivot_table(data=transactions,index='cod_transacao',columns='sub_categoria',values='quantidade', aggfunc='sum',fill_value=0)\n",
    "basket_np = basket.to_numpy()\n",
    "basket_sets_np = np.where(basket_np > 0, 1, 0)\n",
    "basket_sets = pd.DataFrame(basket_sets_np, index=basket.index, columns=basket.columns)\n",
    "frequent_itemsets = apriori(basket_sets, min_support=0.03, use_colnames=True)\n",
    "rules_mlxtend = association_rules(frequent_itemsets, metric=\"lift\", min_threshold=1)"
   ]
  },
  {
   "cell_type": "code",
   "execution_count": 10,
   "metadata": {},
   "outputs": [],
   "source": [
    "with open(os.getcwd() + '/data/cross_selling_model.pkl', 'wb') as dataframe:\n",
    "    pickle.dump(rules_mlxtend, dataframe)"
   ]
  },
  {
   "cell_type": "code",
   "execution_count": null,
   "metadata": {},
   "outputs": [],
   "source": [
    "parquet_file_path = os.path.join(os.getcwd(), 'data', 'transactions.parquet')\n",
    "transactions.to_parquet(parquet_file_path, compression='gzip')"
   ]
  },
  {
   "cell_type": "code",
   "execution_count": null,
   "metadata": {},
   "outputs": [],
   "source": [
    "s3.upload_file(parquet_file_path, bucket_name, s3_transactions_path)"
   ]
  },
  {
   "cell_type": "code",
   "execution_count": 21,
   "metadata": {},
   "outputs": [],
   "source": [
    "pkl_file_path = os.getcwd() + '/data/cross_selling_model.pkl'\n",
    "s3.upload_file(pkl_file_path, bucket_name, s3_model_path)"
   ]
  }
 ],
 "metadata": {
  "kernelspec": {
   "display_name": "Python 3",
   "language": "python",
   "name": "python3"
  },
  "language_info": {
   "codemirror_mode": {
    "name": "ipython",
    "version": 3
   },
   "file_extension": ".py",
   "mimetype": "text/x-python",
   "name": "python",
   "nbconvert_exporter": "python",
   "pygments_lexer": "ipython3",
   "version": "3.10.4"
  }
 },
 "nbformat": 4,
 "nbformat_minor": 2
}
